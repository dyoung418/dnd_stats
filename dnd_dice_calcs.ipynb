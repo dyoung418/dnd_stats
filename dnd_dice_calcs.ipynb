{
 "cells": [
  {
   "cell_type": "code",
   "execution_count": 42,
   "metadata": {},
   "outputs": [],
   "source": [
    "from itertools import product, combinations, combinations_with_replacement, permutations\n",
    "from statistics import mean"
   ]
  },
  {
   "cell_type": "code",
   "execution_count": 43,
   "metadata": {},
   "outputs": [],
   "source": [
    "d4 = list(range(1,5))\n",
    "d6 = list(range(1,7))\n",
    "d8 = list(range(1,9))\n",
    "d10 = list(range(1,11))\n",
    "d12 = list(range(1,13))\n",
    "d20 = list(range(1,21))"
   ]
  },
  {
   "cell_type": "code",
   "execution_count": 44,
   "metadata": {},
   "outputs": [
    {
     "name": "stdout",
     "output_type": "stream",
     "text": [
      "[(1, 1), (1, 2), (1, 3), (1, 4), (1, 5), (1, 6), (2, 1), (2, 2), (2, 3), (2, 4), (2, 5), (2, 6), (3, 1), (3, 2), (3, 3), (3, 4), (3, 5), (3, 6), (4, 1), (4, 2), (4, 3), (4, 4), (4, 5), (4, 6), (5, 1), (5, 2), (5, 3), (5, 4), (5, 5), (5, 6), (6, 1), (6, 2), (6, 3), (6, 4), (6, 5), (6, 6)]\n",
      "[2, 3, 4, 5, 6, 7, 3, 4, 5, 6, 7, 8, 4, 5, 6, 7, 8, 9, 5, 6, 7, 8, 9, 10, 6, 7, 8, 9, 10, 11, 7, 8, 9, 10, 11, 12]\n",
      "7\n"
     ]
    },
    {
     "data": {
      "text/plain": [
       "7"
      ]
     },
     "execution_count": 44,
     "metadata": {},
     "output_type": "execute_result"
    }
   ],
   "source": [
    "twod6 = list(product(d6,repeat=2))\n",
    "twod6_totals = [sum(pair) for pair in twod6]\n",
    "print(\"{}\\n{}\".format(twod6, twod6_totals))\n",
    "print(mean(twod6_totals))\n",
    "mean([sum(pair) for pair in product(d6, repeat=2)])"
   ]
  },
  {
   "cell_type": "code",
   "execution_count": 45,
   "metadata": {},
   "outputs": [],
   "source": [
    "def possible_rolls(die_type, num_die=1):\n",
    "    return product(list(range(1,die_type+1)), repeat=num_die)\n",
    "\n",
    "def possible_totals(die_type, num_die=1, adder=0):\n",
    "    return [sum(rolls)+adder for rolls in \n",
    "             possible_rolls(die_type, num_die=num_die)]\n",
    "\n",
    "def avg_roll(die_type, num_die=1, adder=0):\n",
    "    return mean(possible_totals(die_type, num_die=num_die, adder=adder))"
   ]
  },
  {
   "cell_type": "code",
   "execution_count": 46,
   "metadata": {},
   "outputs": [
    {
     "data": {
      "text/plain": [
       "10"
      ]
     },
     "execution_count": 46,
     "metadata": {},
     "output_type": "execute_result"
    }
   ],
   "source": [
    "avg_roll(6, num_die=2, adder=3)"
   ]
  },
  {
   "cell_type": "code",
   "execution_count": 47,
   "metadata": {},
   "outputs": [
    {
     "name": "stdout",
     "output_type": "stream",
     "text": [
      "2d6+3 = 10\n",
      "d10+4 = 9.5\n"
     ]
    }
   ],
   "source": [
    "print(\"2d6+3 = {}\".format(avg_roll(6, num_die=2, adder=3)))\n",
    "print(\"d10+4 = {}\".format(avg_roll(10, num_die=1, adder=4)))"
   ]
  },
  {
   "cell_type": "code",
   "execution_count": 61,
   "metadata": {},
   "outputs": [
    {
     "name": "stdout",
     "output_type": "stream",
     "text": [
      "Attack modifier 2 = 44% chance to hit\n",
      "Attack modifier 3 = 49% chance to hit\n",
      "Attack modifier 4 = 54% chance to hit\n",
      "Attack modifier 5 = 59% chance to hit\n",
      "Attack modifier 6 = 64% chance to hit\n"
     ]
    }
   ],
   "source": [
    "def chance_to_hit(mod=2, ac_weights=None, verbal=False):\n",
    "    if not ac_weights:\n",
    "        acs =     [  9, 10, 11, 12, 13, 14, 15, 16, 17, 18, 19, 20]\n",
    "        weights = [0.1,0.2,0.4,0.5,0.5,0.5,0.5,0.5,0.4,0.2,0.1,0.1]\n",
    "        norm_weights = [w/sum(weights) for w in weights]\n",
    "        ac_weights = {a:nw for a, nw in zip(acs, norm_weights)}\n",
    "    ending_odds = []\n",
    "    if verbal:\n",
    "        print(\"Modifier {}\".format(mod))\n",
    "    for ac, weight in ac_weights.items():\n",
    "        hits = [1 if roll>=ac else 0 for roll in possible_totals(20, adder=mod)]\n",
    "        odds = sum(hits)/len(hits)\n",
    "        if verbal:\n",
    "            #print(\"  {}\".format(list(zip(possible_totals(20, adder=mod), hits))))\n",
    "            print(\"  {} odds at ac {}\".format(odds, ac))\n",
    "        ending_odds.append(odds*weight)\n",
    "    return sum(ending_odds)\n",
    "for i in range(2,7):\n",
    "    print(\"Attack modifier {} = {:0.0%} chance to hit\".format(i, chance_to_hit(mod=i)))"
   ]
  },
  {
   "cell_type": "code",
   "execution_count": 69,
   "metadata": {},
   "outputs": [
    {
     "name": "stdout",
     "output_type": "stream",
     "text": [
      "+5 to hit 2d6+3 = 5.925000000000002 damage\n",
      "+6 to hit d10+4 = 6.103750000000001 damage\n"
     ]
    }
   ],
   "source": [
    "def damage_prob(mod=2, dmg_die_type=6, dmg_num_die=1, dmg_adder=0):\n",
    "    return chance_to_hit(mod=mod) * avg_roll(dmg_die_type, num_die=dmg_num_die, adder=dmg_adder)\n",
    "print(\"+5 to hit 2d6+3 = {:0} damage\".format(damage_prob(mod=5, \n",
    "                                                dmg_die_type=6, \n",
    "                                                dmg_num_die=2, \n",
    "                                                dmg_adder=3)))\n",
    "print(\"+6 to hit d10+4 = {:0} damage\".format(damage_prob(mod=6, \n",
    "                                                dmg_die_type=10, \n",
    "                                                dmg_num_die=1, \n",
    "                                                dmg_adder=4)))\n"
   ]
  },
  {
   "cell_type": "code",
   "execution_count": null,
   "metadata": {},
   "outputs": [],
   "source": []
  }
 ],
 "metadata": {
  "kernelspec": {
   "display_name": "Python 3",
   "language": "python",
   "name": "python3"
  },
  "language_info": {
   "codemirror_mode": {
    "name": "ipython",
    "version": 3
   },
   "file_extension": ".py",
   "mimetype": "text/x-python",
   "name": "python",
   "nbconvert_exporter": "python",
   "pygments_lexer": "ipython3",
   "version": "3.8.2"
  }
 },
 "nbformat": 4,
 "nbformat_minor": 4
}
